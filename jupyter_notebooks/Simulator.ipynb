{
 "cells": [
  {
   "cell_type": "markdown",
   "metadata": {},
   "source": [
    "# Unwetter Simulator"
   ]
  },
  {
   "cell_type": "code",
   "execution_count": null,
   "metadata": {},
   "outputs": [],
   "source": [
    "import os\n",
    "os.chdir('..')\n",
    "\n",
    "\n",
    "f'Working directory: {os.getcwd()}'"
   ]
  },
  {
   "cell_type": "code",
   "execution_count": null,
   "metadata": {},
   "outputs": [],
   "source": [
    "from unwetter import db, map\n",
    "from datetime import datetime"
   ]
  },
  {
   "cell_type": "code",
   "execution_count": null,
   "metadata": {},
   "outputs": [],
   "source": [
    "from unwetter import config\n",
    "\n",
    "config.SEVERITY_FILTER = ['Severe', 'Extreme']\n",
    "config.STATES_FILTER = ['NW']\n",
    "config.EMERGENCY_FILTER = ['Immediate']\n",
    "\n",
    "severities = {\n",
    "    'Minor': 'Wetterwarnung',\n",
    "    'Moderate': 'Markante Wetterwarnung',\n",
    "    'Severe': '🔴 Amtliche Unwetterwarnung',\n",
    "    'Extreme': '🔴 Amtliche Extreme Unwetterwarnung',\n",
    "}"
   ]
  },
  {
   "cell_type": "code",
   "execution_count": null,
   "metadata": {},
   "outputs": [],
   "source": [
    "search_start = datetime(2019, 6, 19, 11, 0)\n",
    "search_end = datetime(2019, 6, 19, 22, 0)\n",
    "\n",
    "search_filter = {\n",
    "    '$and': [\n",
    "        {\n",
    "            'sent': {\n",
    "                '$gt': search_start,\n",
    "            },\n",
    "        },\n",
    "        {\n",
    "            'sent': {\n",
    "                '$lt': search_end,\n",
    "            },\n",
    "        },\n",
    "    ]\n",
    "}\n",
    "\n",
    "events = list(db.collection.find(search_filter).sort([('sent', 1)]))"
   ]
  },
  {
   "cell_type": "code",
   "execution_count": null,
   "metadata": {},
   "outputs": [],
   "source": [
    "len(events)"
   ]
  },
  {
   "cell_type": "code",
   "execution_count": null,
   "metadata": {},
   "outputs": [],
   "source": [
    "len([e for e in events if e['published']])"
   ]
  },
  {
   "cell_type": "code",
   "execution_count": null,
   "metadata": {},
   "outputs": [],
   "source": [
    "for e in events:\n",
    "    e['published'] = False"
   ]
  },
  {
   "cell_type": "code",
   "execution_count": null,
   "metadata": {},
   "outputs": [],
   "source": [
    "def mock_by_ids(ids):\n",
    "    return [event for event in events if event['id'] in ids]\n",
    "\n",
    "def mock_publish(ids):\n",
    "    for event in events:\n",
    "        if event['id'] in ids:\n",
    "            event['published'] = True"
   ]
  },
  {
   "cell_type": "code",
   "execution_count": null,
   "metadata": {},
   "outputs": [],
   "source": [
    "from unwetter.dwd import special_type\n",
    "\n",
    "def mock_has_changes(event, old_events):\n",
    "    event['has_changes'] = [\n",
    "        {\n",
    "            'id': old_event['id'],\n",
    "            'changed': mock_changes(event, old_event),\n",
    "            'published': old_event['published'],\n",
    "        }\n",
    "        for old_event in old_events\n",
    "    ]\n",
    "\n",
    "    if not any(t['published'] for t in event['has_changes']):\n",
    "        for old_event in old_events:\n",
    "            if 'references' in old_event:\n",
    "                event['references'].extend(old_event['references'])\n",
    "        event['references'] = list(set(event['references']))\n",
    "    \n",
    "    old_events = mock_by_ids(event['references'])\n",
    "\n",
    "    event['special_type'] = special_type(event, old_events)\n",
    "    return event"
   ]
  },
  {
   "cell_type": "code",
   "execution_count": null,
   "metadata": {},
   "outputs": [],
   "source": [
    "from datetime import datetime, timedelta\n",
    "from unwetter.generate.blocks import expires, district_list, state_for_cell_id, region_list, dates\n",
    "from unwetter.generate.helpers import upper_first, local_time\n",
    "\n",
    "STATES_FILTER = config.STATES_FILTER\n",
    "\n",
    "\n",
    "def mock_changes_old(event, old_event):\n",
    "    \"\"\"\n",
    "    Generate a list of changes between two events\n",
    "    :param event:\n",
    "    :param old_event:\n",
    "    :return: str\n",
    "    \"\"\"\n",
    "    text = ''\n",
    "\n",
    "    simple_fields = {\n",
    "        'severity': 'Warnstufe',\n",
    "        'event': 'Wetterphänomen',\n",
    "        'certainty': 'Wahrscheinlichkeit',\n",
    "    }\n",
    "\n",
    "    for field in simple_fields:\n",
    "        if old_event.get(field) != event.get(field):\n",
    "            if field == 'severity' and event[field] in ['Minor', 'Moderate']:\n",
    "                text += f'{simple_fields[field]}: Herabstufung auf {severities[event[field]]}\\n\\n'\n",
    "            elif field == 'severity':\n",
    "                text += f'{simple_fields[field]}: {severities[event[field]]} ' \\\n",
    "                        f'(zuvor \"{severities[old_event[field]]}\")\\n\\n'\n",
    "            else:\n",
    "                text += f'{simple_fields[field]}: {event[field]} ' \\\n",
    "                        f'(zuvor \"{old_event.get(field, \"Nicht angegeben\")}\")\\n\\n'\n",
    "\n",
    "    # Editorial request to check only, if expires time changed, since every update has new onset-time\n",
    "    if abs(event['onset'] - event['sent']) > timedelta(minutes=2) and dates(old_event) != dates(event):\n",
    "        text += f'Gültigkeit: {dates(event)} (zuvor \"{dates(old_event)}\")\\n\\n'\n",
    "    elif expires(old_event) != expires(event):\n",
    "        text += f'Ende der Gültigkeit: {expires(event)} (zuvor \"{expires(old_event)}\")\\n\\n'\n",
    "\n",
    "    if district_list(old_event) != district_list(event):\n",
    "        districts_now = {\n",
    "            district['name'] for district in event['districts']\n",
    "            if state_for_cell_id(district['warn_cell_id']) in STATES_FILTER\n",
    "        }\n",
    "        districts_before = {\n",
    "            district['name'] for district in old_event['districts']\n",
    "            if state_for_cell_id(district['warn_cell_id']) in STATES_FILTER\n",
    "        }\n",
    "\n",
    "        added = districts_now - districts_before\n",
    "        removed = districts_before - districts_now\n",
    "\n",
    "        if added:\n",
    "            text += f'Neue Kreise/Städte: {\", \".join(sorted(added))}\\n'\n",
    "\n",
    "        if removed:\n",
    "            text += f'Nicht mehr betroffene Kreise/Städte: {\", \".join(sorted(removed))}\\n'\n",
    "\n",
    "        if region_list(old_event) != region_list(event):\n",
    "            text += f'Regionale Zuordnung: {upper_first(region_list(event))} ' \\\n",
    "                    f'(zuvor: \"{upper_first(region_list(old_event))}\")\\n\\n'\n",
    "        else:\n",
    "            text += f'Regionale Zuordnung unverändert: {upper_first(region_list(event))}\\n\\n'\n",
    "\n",
    "    '''\n",
    "    # Editorial choice --> No relevant information due to relatively small area --> Thus, no update\n",
    "\n",
    "    elif commune_list(old_event) != commune_list(event):\n",
    "        text += 'Regionale Zuordnung: Änderung der betroffenen Gemeinden\\n\\n'\n",
    "    '''\n",
    "    \n",
    "    return text"
   ]
  },
  {
   "cell_type": "code",
   "execution_count": null,
   "metadata": {},
   "outputs": [],
   "source": [
    "from datetime import datetime, timedelta\n",
    "import re\n",
    "\n",
    "STATES_FILTER = config.STATES_FILTER\n",
    "\n",
    "\n",
    "def mock_changes(event, old_event):\n",
    "    \"\"\"\n",
    "    Generate a list of changes between two events\n",
    "    :param event:\n",
    "    :param old_event:\n",
    "    :return: bool\n",
    "    \"\"\"\n",
    "    \n",
    "    if any(event.get(field) != old_event.get(field) for field in ['severity', 'hail', 'certainty']):\n",
    "        return True\n",
    "    \n",
    "    if abs(event['onset'] - event['sent']) > timedelta(minutes=2) and old_event['onset'] != event['onset']:\n",
    "        return True\n",
    "    elif old_event['expires'] != event['expires']:\n",
    "        return True\n",
    "    \n",
    "    if len(set(r[0] for r in event['regions']) - set(r[0] for r in old_event['regions'])) > 0:\n",
    "        return True\n",
    "\n",
    "    districts_now = {\n",
    "        district['name'] for district in event['districts']\n",
    "        if state_for_cell_id(district['warn_cell_id']) in STATES_FILTER\n",
    "    }\n",
    "    districts_before = {\n",
    "        district['name'] for district in old_event['districts']\n",
    "        if state_for_cell_id(district['warn_cell_id']) in STATES_FILTER\n",
    "    }\n",
    "    added = districts_now - districts_before\n",
    "    \n",
    "    if len(districts_before) <= 3 and added:\n",
    "        return True\n",
    "    \n",
    "    return False"
   ]
  },
  {
   "cell_type": "code",
   "execution_count": null,
   "metadata": {},
   "outputs": [],
   "source": [
    "for event in events:\n",
    "    if 'references' in event:\n",
    "        old_events = mock_by_ids(event['references'])\n",
    "        mock_has_changes(event, old_events)\n"
   ]
  },
  {
   "cell_type": "code",
   "execution_count": null,
   "metadata": {},
   "outputs": [],
   "source": [
    "from unwetter.config import filter_event\n",
    "\n",
    "def mock_update(new_events):\n",
    "\n",
    "    filtered = []\n",
    "    for event in new_events:\n",
    "        if filter_event(event):\n",
    "            if event['msg_type'] in ['Alert', 'Cancel']:\n",
    "                filtered.append(event)\n",
    "\n",
    "            elif not any(t['changed'] for t in event['has_changes']):\n",
    "                continue\n",
    "\n",
    "            elif any(t['changed'] and t['published'] for t in event['has_changes']):\n",
    "                filtered.append(event)\n",
    "            \n",
    "            elif event['special_type'] == 'UpdateAlert':\n",
    "                filtered.append(event)\n",
    "\n",
    "            else:\n",
    "                print(f'Event was not filtered 1: {event[\"id\"]}')\n",
    "\n",
    "    mock_publish([event['id'] for event in filtered])\n",
    "    return filtered"
   ]
  },
  {
   "cell_type": "code",
   "execution_count": null,
   "metadata": {},
   "outputs": [],
   "source": [
    "from unwetter.generate.blocks import changes\n",
    "\n",
    "current_sent = events[0]['sent']\n",
    "\n",
    "bins = []\n",
    "current_bin = []\n",
    "\n",
    "for event in events:\n",
    "    if event['sent'] != current_sent:\n",
    "        current_sent = event['sent']\n",
    "        bins.append(current_bin)\n",
    "        current_bin = []\n",
    "    \n",
    "    current_bin.append(event)\n",
    "\n",
    "bins.append(current_bin)\n"
   ]
  },
  {
   "cell_type": "code",
   "execution_count": null,
   "metadata": {},
   "outputs": [],
   "source": [
    "processed = [mock_update(bin) for bin in bins]"
   ]
  },
  {
   "cell_type": "code",
   "execution_count": null,
   "metadata": {
    "scrolled": true
   },
   "outputs": [],
   "source": [
    "sum(len(mock_update(bin)) for bin in bins)"
   ]
  },
  {
   "cell_type": "code",
   "execution_count": null,
   "metadata": {},
   "outputs": [],
   "source": [
    "[print(event['event'], event['sent'], event['expires'], event.get('special_type')) for bin in processed for event in bin]"
   ]
  },
  {
   "cell_type": "code",
   "execution_count": null,
   "metadata": {
    "scrolled": false
   },
   "outputs": [],
   "source": [
    "bins[0][0]"
   ]
  },
  {
   "cell_type": "code",
   "execution_count": null,
   "metadata": {},
   "outputs": [],
   "source": [
    "len(events)"
   ]
  },
  {
   "cell_type": "code",
   "execution_count": null,
   "metadata": {},
   "outputs": [],
   "source": []
  }
 ],
 "metadata": {
  "kernelspec": {
   "display_name": "Python 3",
   "language": "python",
   "name": "python3"
  },
  "language_info": {
   "codemirror_mode": {
    "name": "ipython",
    "version": 3
   },
   "file_extension": ".py",
   "mimetype": "text/x-python",
   "name": "python",
   "nbconvert_exporter": "python",
   "pygments_lexer": "ipython3",
   "version": "3.6.8"
  }
 },
 "nbformat": 4,
 "nbformat_minor": 2
}
