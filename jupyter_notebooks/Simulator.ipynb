{
 "cells": [
  {
   "cell_type": "markdown",
   "metadata": {},
   "source": [
    "# Unwetter Simulator"
   ]
  },
  {
   "cell_type": "code",
   "execution_count": 1,
   "metadata": {},
   "outputs": [
    {
     "data": {
      "text/plain": [
       "'Working directory: /home/jhoeke/git/p3nny/unwetter'"
      ]
     },
     "execution_count": 1,
     "metadata": {},
     "output_type": "execute_result"
    }
   ],
   "source": [
    "import os\n",
    "os.chdir('..')\n",
    "\n",
    "f'Working directory: {os.getcwd()}'"
   ]
  },
  {
   "cell_type": "code",
   "execution_count": 2,
   "metadata": {},
   "outputs": [],
   "source": [
    "from unwetter import db, map\n",
    "from datetime import datetime"
   ]
  },
  {
   "cell_type": "code",
   "execution_count": 3,
   "metadata": {},
   "outputs": [],
   "source": [
    "search_start = datetime(2019, 6, 19, 11, 0)\n",
    "search_end = datetime(2019, 6, 19, 22, 0)\n",
    "\n",
    "search_filter = {\n",
    "    '$and': [\n",
    "        {\n",
    "            'sent': {\n",
    "                '$gt': search_start,\n",
    "            },\n",
    "        },\n",
    "        {\n",
    "            'sent': {\n",
    "                '$lt': search_end,\n",
    "            },\n",
    "        },\n",
    "    ]\n",
    "}\n",
    "\n",
    "events = list(db.collection.find(search_filter))"
   ]
  },
  {
   "cell_type": "code",
   "execution_count": 4,
   "metadata": {},
   "outputs": [
    {
     "data": {
      "text/plain": [
       "759"
      ]
     },
     "execution_count": 4,
     "metadata": {},
     "output_type": "execute_result"
    }
   ],
   "source": [
    "len(events)"
   ]
  },
  {
   "cell_type": "code",
   "execution_count": 5,
   "metadata": {},
   "outputs": [
    {
     "data": {
      "text/plain": [
       "32"
      ]
     },
     "execution_count": 5,
     "metadata": {},
     "output_type": "execute_result"
    }
   ],
   "source": [
    "len([e for e in events if e['published']])"
   ]
  },
  {
   "cell_type": "code",
   "execution_count": 6,
   "metadata": {},
   "outputs": [],
   "source": [
    "for e in events:\n",
    "    e['published'] = False"
   ]
  },
  {
   "cell_type": "code",
   "execution_count": 7,
   "metadata": {},
   "outputs": [],
   "source": [
    "def mock_by_ids(ids):\n",
    "    return [event for event in events if event['id'] in ids]\n",
    "\n",
    "def mock_publish(ids):\n",
    "    for event in events:\n",
    "        if event['id'] in ids:\n",
    "            event['published'] = True"
   ]
  },
  {
   "cell_type": "code",
   "execution_count": 8,
   "metadata": {},
   "outputs": [],
   "source": [
    "from unwetter.config import filter_event\n",
    "\n",
    "def mock_update(new_events):\n",
    "    filtered = []\n",
    "    for event in new_events:\n",
    "        if filter_event(event):\n",
    "            if event['msg_type'] in ['Alert', 'Cancel']:\n",
    "                filtered.append(event)\n",
    "\n",
    "            elif not any(t['changed'] for t in event['has_changes']):\n",
    "                continue\n",
    "\n",
    "            elif any(t['changed'] for t in event['has_changes']):\n",
    "                filtered.append(event)\n",
    "\n",
    "            else:\n",
    "                print(f'Event was not filtered 1: {event[\"id\"]}')\n",
    "\n",
    "        else:\n",
    "            if event['msg_type'] in ['Alert', 'Cancel']:\n",
    "                continue\n",
    "\n",
    "            else:\n",
    "                old_events = mock_by_ids(event['references'])\n",
    "\n",
    "                if any((old_event['published'] and filter_event(old_event)) for old_event in old_events):\n",
    "                    filtered.append(event)\n",
    "\n",
    "                elif not any(old_event['published'] for old_event in old_events):\n",
    "                    continue\n",
    "\n",
    "                else:\n",
    "                    print(f'Event was not filtered 2: {event[\"id\"]}')\n",
    "\n",
    "    mock_publish([event['id'] for event in filtered])\n",
    "    return filtered"
   ]
  },
  {
   "cell_type": "code",
   "execution_count": 9,
   "metadata": {},
   "outputs": [],
   "source": [
    "current_sent = events[0]['sent']\n",
    "\n",
    "bins = []\n",
    "current_bin = []\n",
    "\n",
    "for event in events:\n",
    "    if event['sent'] != current_sent:\n",
    "        current_sent = event['sent']\n",
    "        bins.append(current_bin)\n",
    "        current_bin = []\n",
    "    \n",
    "    current_bin.append(event)\n",
    "\n",
    "bins.append(current_bin)\n"
   ]
  },
  {
   "cell_type": "code",
   "execution_count": 10,
   "metadata": {},
   "outputs": [
    {
     "name": "stdout",
     "output_type": "stream",
     "text": [
      "Event was not filtered 2: 2.49.0.1.276.0.DWD.PVW.1560946920000.8deab210-1c6f-4d9e-ab2c-a2dd100bf69b.DEU\n",
      "Event was not filtered 2: 2.49.0.1.276.0.DWD.PVW.1560948180000.a772f132-98eb-45c1-9570-a1203b030663.DEU\n",
      "Event was not filtered 2: 2.49.0.1.276.0.DWD.PVW.1560949020000.d2f84e16-1192-42ee-b573-9e050b78bab3.DEU\n",
      "Event was not filtered 2: 2.49.0.1.276.0.DWD.PVW.1560949320000.d4ac855a-686e-464d-a90f-78737deae44c.DEU\n",
      "Event was not filtered 2: 2.49.0.1.276.0.DWD.PVW.1560949860000.ad53158c-51c2-4ec3-afca-22065a28a805.DEU\n",
      "Event was not filtered 2: 2.49.0.1.276.0.DWD.PVW.1560964200000.4a0767cf-e5f4-490e-83ee-38e0f49aa956.DEU\n"
     ]
    },
    {
     "data": {
      "text/plain": [
       "32"
      ]
     },
     "execution_count": 10,
     "metadata": {},
     "output_type": "execute_result"
    }
   ],
   "source": [
    "sum(len(mock_update(bin)) for bin in bins)"
   ]
  }
 ],
 "metadata": {
  "kernelspec": {
   "display_name": "Python 3",
   "language": "python",
   "name": "python3"
  },
  "language_info": {
   "codemirror_mode": {
    "name": "ipython",
    "version": 3
   },
   "file_extension": ".py",
   "mimetype": "text/x-python",
   "name": "python",
   "nbconvert_exporter": "python",
   "pygments_lexer": "ipython3",
   "version": "3.6.8"
  }
 },
 "nbformat": 4,
 "nbformat_minor": 2
}
