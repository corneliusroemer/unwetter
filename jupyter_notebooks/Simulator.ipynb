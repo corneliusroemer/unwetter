{
 "cells": [
  {
   "cell_type": "markdown",
   "metadata": {},
   "source": [
    "# Unwetter Simulator"
   ]
  },
  {
   "cell_type": "code",
   "execution_count": null,
   "metadata": {},
   "outputs": [],
   "source": [
    "import os\n",
    "os.chdir('..')\n",
    "\n",
    "\n",
    "f'Working directory: {os.getcwd()}'"
   ]
  },
  {
   "cell_type": "code",
   "execution_count": null,
   "metadata": {},
   "outputs": [],
   "source": [
    "from unwetter import db, map\n",
    "from datetime import datetime"
   ]
  },
  {
   "cell_type": "code",
   "execution_count": null,
   "metadata": {},
   "outputs": [],
   "source": [
    "from unwetter import config\n",
    "\n",
    "config.SEVERITY_FILTER = ['Severe', 'Extreme']\n",
    "config.STATES_FILTER = ['NW']\n",
    "config.EMERGENCY_FILTER = ['Immediate']\n",
    "\n",
    "severities = {\n",
    "    'Minor': 'Wetterwarnung',\n",
    "    'Moderate': 'Markante Wetterwarnung',\n",
    "    'Severe': '🔴 Amtliche Unwetterwarnung',\n",
    "    'Extreme': '🔴 Amtliche Extreme Unwetterwarnung',\n",
    "}"
   ]
  },
  {
   "cell_type": "code",
   "execution_count": null,
   "metadata": {},
   "outputs": [],
   "source": [
    "search_start = datetime(2019, 6, 19, 11, 0)\n",
    "search_end = datetime(2019, 6, 19, 22, 0)\n",
    "\n",
    "search_filter = {\n",
    "    '$and': [\n",
    "        {\n",
    "            'sent': {\n",
    "                '$gt': search_start,\n",
    "            },\n",
    "        },\n",
    "        {\n",
    "            'sent': {\n",
    "                '$lt': search_end,\n",
    "            },\n",
    "        },\n",
    "    ]\n",
    "}\n",
    "\n",
    "events = list(db.collection.find(search_filter))"
   ]
  },
  {
   "cell_type": "code",
   "execution_count": null,
   "metadata": {},
   "outputs": [],
   "source": [
    "len(events)"
   ]
  },
  {
   "cell_type": "code",
   "execution_count": null,
   "metadata": {},
   "outputs": [],
   "source": [
    "len([e for e in events if e['published']])"
   ]
  },
  {
   "cell_type": "code",
   "execution_count": null,
   "metadata": {},
   "outputs": [],
   "source": [
    "for e in events:\n",
    "    e['published'] = False"
   ]
  },
  {
   "cell_type": "code",
   "execution_count": null,
   "metadata": {},
   "outputs": [],
   "source": [
    "def mock_by_ids(ids):\n",
    "    return [event for event in events if event['id'] in ids]\n",
    "\n",
    "def mock_publish(ids):\n",
    "    for event in events:\n",
    "        if event['id'] in ids:\n",
    "            event['published'] = True"
   ]
  },
  {
   "cell_type": "code",
   "execution_count": null,
   "metadata": {},
   "outputs": [],
   "source": [
    "def mock_has_changes(event, old_events):\n",
    "    event['has_changes'] = [\n",
    "            {\n",
    "                'id': old_event['id'],\n",
    "                'changed': mock_changes(event, old_event),\n",
    "                'published': old_event['published'],\n",
    "            }\n",
    "            for old_event in old_events\n",
    "        ]\n",
    "    return event"
   ]
  },
  {
   "cell_type": "code",
   "execution_count": null,
   "metadata": {},
   "outputs": [],
   "source": [
    "from datetime import datetime, timedelta\n",
    "from unwetter.generate.blocks import expires, district_list, state_for_cell_id, region_list, dates\n",
    "from unwetter.generate.helpers import upper_first, local_time\n",
    "\n",
    "STATES_FILTER = config.STATES_FILTER\n",
    "\n",
    "\n",
    "def mock_changes_old(event, old_event):\n",
    "    \"\"\"\n",
    "    Generate a list of changes between two events\n",
    "    :param event:\n",
    "    :param old_event:\n",
    "    :return: str\n",
    "    \"\"\"\n",
    "    text = ''\n",
    "\n",
    "    simple_fields = {\n",
    "        'severity': 'Warnstufe',\n",
    "        'event': 'Wetterphänomen',\n",
    "        'certainty': 'Wahrscheinlichkeit',\n",
    "    }\n",
    "\n",
    "    for field in simple_fields:\n",
    "        if old_event.get(field) != event.get(field):\n",
    "            if field == 'severity' and event[field] in ['Minor', 'Moderate']:\n",
    "                text += f'{simple_fields[field]}: Herabstufung auf {severities[event[field]]}\\n\\n'\n",
    "            elif field == 'severity':\n",
    "                text += f'{simple_fields[field]}: {severities[event[field]]} ' \\\n",
    "                        f'(zuvor \"{severities[old_event[field]]}\")\\n\\n'\n",
    "            else:\n",
    "                text += f'{simple_fields[field]}: {event[field]} ' \\\n",
    "                        f'(zuvor \"{old_event.get(field, \"Nicht angegeben\")}\")\\n\\n'\n",
    "\n",
    "    # Editorial request to check only, if expires time changed, since every update has new onset-time\n",
    "    if abs(event['onset'] - event['sent']) > timedelta(minutes=2) and dates(old_event) != dates(event):\n",
    "        text += f'Gültigkeit: {dates(event)} (zuvor \"{dates(old_event)}\")\\n\\n'\n",
    "    elif expires(old_event) != expires(event):\n",
    "        text += f'Ende der Gültigkeit: {expires(event)} (zuvor \"{expires(old_event)}\")\\n\\n'\n",
    "\n",
    "    if district_list(old_event) != district_list(event):\n",
    "        districts_now = {\n",
    "            district['name'] for district in event['districts']\n",
    "            if state_for_cell_id(district['warn_cell_id']) in STATES_FILTER\n",
    "        }\n",
    "        districts_before = {\n",
    "            district['name'] for district in old_event['districts']\n",
    "            if state_for_cell_id(district['warn_cell_id']) in STATES_FILTER\n",
    "        }\n",
    "\n",
    "        added = districts_now - districts_before\n",
    "        removed = districts_before - districts_now\n",
    "\n",
    "        if added:\n",
    "            text += f'Neue Kreise/Städte: {\", \".join(sorted(added))}\\n'\n",
    "\n",
    "        if removed:\n",
    "            text += f'Nicht mehr betroffene Kreise/Städte: {\", \".join(sorted(removed))}\\n'\n",
    "\n",
    "        if region_list(old_event) != region_list(event):\n",
    "            text += f'Regionale Zuordnung: {upper_first(region_list(event))} ' \\\n",
    "                    f'(zuvor: \"{upper_first(region_list(old_event))}\")\\n\\n'\n",
    "        else:\n",
    "            text += f'Regionale Zuordnung unverändert: {upper_first(region_list(event))}\\n\\n'\n",
    "\n",
    "    '''\n",
    "    # Editorial choice --> No relevant information due to relatively small area --> Thus, no update\n",
    "\n",
    "    elif commune_list(old_event) != commune_list(event):\n",
    "        text += 'Regionale Zuordnung: Änderung der betroffenen Gemeinden\\n\\n'\n",
    "    '''\n",
    "    \n",
    "    return text"
   ]
  },
  {
   "cell_type": "code",
   "execution_count": null,
   "metadata": {},
   "outputs": [],
   "source": [
    "from datetime import datetime, timedelta\n",
    "from unwetter.generate.blocks import expires, district_list, state_for_cell_id, region_list, dates\n",
    "from unwetter.generate.helpers import upper_first, local_time\n",
    "\n",
    "STATES_FILTER = config.STATES_FILTER\n",
    "\n",
    "\n",
    "def mock_changes(event, old_event):\n",
    "    \"\"\"\n",
    "    Generate a list of changes between two events\n",
    "    :param event:\n",
    "    :param old_event:\n",
    "    :return: bool\n",
    "    \"\"\"\n",
    "    \n",
    "    if any(old_event.get(field) != event.get(field) for field in ['severity', 'event', 'certainty']):\n",
    "        return True\n",
    "    \n",
    "    if abs(event['onset'] - event['sent']) > timedelta(minutes=2) and old_event['onset'] != event['onset']:\n",
    "        return True\n",
    "    elif old_event['expires'] != event['expires']:\n",
    "        return True\n",
    "    \n",
    "    if len(set(r[0] for r in event['regions']) - set(r[0] for r in old_event['regions'])) > 0:\n",
    "        return True\n",
    "    \n",
    "    '''\n",
    "    if district_list(old_event) != district_list(event):\n",
    "        districts_now = {\n",
    "            district['name'] for district in event['districts']\n",
    "            if state_for_cell_id(district['warn_cell_id']) in STATES_FILTER\n",
    "        }\n",
    "        districts_before = {\n",
    "            district['name'] for district in old_event['districts']\n",
    "            if state_for_cell_id(district['warn_cell_id']) in STATES_FILTER\n",
    "        }\n",
    "        added = districts_now - districts_before\n",
    "        removed = districts_before - districts_now\n",
    "        \n",
    "            \n",
    "        if len(added) / len(old_event['districts']) > 0.33:\n",
    "            return True\n",
    "        \n",
    "        if len(removed) / len(old_event['districts']) > 0.50:\n",
    "            return True\n",
    "    '''\n",
    "        \n",
    "    return False"
   ]
  },
  {
   "cell_type": "code",
   "execution_count": null,
   "metadata": {},
   "outputs": [],
   "source": [
    "from unwetter.config import filter_event\n",
    "\n",
    "def mock_update(new_events):\n",
    "    filtered = []\n",
    "    for event in new_events:\n",
    "        if filter_event(event):\n",
    "            if event['msg_type'] in ['Alert', 'Cancel']:\n",
    "                filtered.append(event)\n",
    "\n",
    "            elif not any(t['changed'] for t in event['has_changes']):\n",
    "                continue\n",
    "\n",
    "            elif any(t['changed'] for t in event['has_changes']):\n",
    "                filtered.append(event)\n",
    "\n",
    "            else:\n",
    "                print(f'Event was not filtered 1: {event[\"id\"]}')\n",
    "\n",
    "        else:\n",
    "            if event['msg_type'] in ['Alert', 'Cancel']:\n",
    "                continue\n",
    "\n",
    "            else:\n",
    "                old_events = mock_by_ids(event['references'])\n",
    "\n",
    "                if any((old_event['published'] and filter_event(old_event)) for old_event in old_events):\n",
    "                    filtered.append(event)\n",
    "\n",
    "                elif not any(old_event['published'] for old_event in old_events):\n",
    "                    continue\n",
    "\n",
    "                else:\n",
    "                    print(f'Event was not filtered 2: {event[\"id\"]}')\n",
    "\n",
    "    mock_publish([event['id'] for event in filtered])\n",
    "    return filtered"
   ]
  },
  {
   "cell_type": "code",
   "execution_count": null,
   "metadata": {},
   "outputs": [],
   "source": [
    "for event in events:\n",
    "    if 'references' in event.keys():\n",
    "        old_events = mock_by_ids(event['references'])\n",
    "    else:\n",
    "        old_events = []\n",
    "    mock_has_changes(event, old_events)"
   ]
  },
  {
   "cell_type": "code",
   "execution_count": null,
   "metadata": {},
   "outputs": [],
   "source": [
    "from unwetter.generate.blocks import changes\n",
    "\n",
    "current_sent = events[0]['sent']\n",
    "\n",
    "bins = []\n",
    "current_bin = []\n",
    "\n",
    "for event in events:\n",
    "    if event['sent'] != current_sent:\n",
    "        current_sent = event['sent']\n",
    "        bins.append(current_bin)\n",
    "        current_bin = []\n",
    "    \n",
    "    current_bin.append(event)\n",
    "\n",
    "bins.append(current_bin)\n"
   ]
  },
  {
   "cell_type": "code",
   "execution_count": null,
   "metadata": {},
   "outputs": [],
   "source": [
    "sum(len(mock_update(bin)) for bin in bins)"
   ]
  },
  {
   "cell_type": "code",
   "execution_count": null,
   "metadata": {},
   "outputs": [],
   "source": []
  }
 ],
 "metadata": {
  "kernelspec": {
   "display_name": "Python 3",
   "language": "python",
   "name": "python3"
  },
  "language_info": {
   "codemirror_mode": {
    "name": "ipython",
    "version": 3
   },
   "file_extension": ".py",
   "mimetype": "text/x-python",
   "name": "python",
   "nbconvert_exporter": "python",
   "pygments_lexer": "ipython3",
   "version": "3.6.8"
  }
 },
 "nbformat": 4,
 "nbformat_minor": 2
}
